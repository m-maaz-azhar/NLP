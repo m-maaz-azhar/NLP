{
  "cells": [
    {
      "cell_type": "code",
      "execution_count": null,
      "metadata": {
        "id": "ehJokw610Vvs"
      },
      "outputs": [],
      "source": [
        "import pandas as pd\n",
        "import numpy as np\n",
        "import matplotlib.pyplot as plt\n",
        "from tensorflow.keras.preprocessing.text import Tokenizer\n",
        "from tensorflow.keras.preprocessing.sequence import pad_sequences\n",
        "from tensorflow.keras.utils import to_categorical\n",
        "from tensorflow.keras.layers import Dense\n",
        "from tensorflow.keras.models import Sequential\n",
        "from tensorflow.keras.layers import Embedding\n",
        "from tensorflow.keras.layers import LSTM\n",
        "import matplotlib.pyplot as plt"
      ]
    },
    {
      "cell_type": "markdown",
      "source": [
        "### IMPORTING DATA"
      ],
      "metadata": {
        "id": "hfY7cILARzwb"
      }
    },
    {
      "cell_type": "code",
      "execution_count": null,
      "metadata": {
        "id": "sBgmaUZR12ZB"
      },
      "outputs": [],
      "source": [
        "data = pd.read_csv(\"https://raw.githubusercontent.com/m-maaz-azhar/NLP/main/reviews_by_course.csv\")"
      ]
    },
    {
      "cell_type": "code",
      "execution_count": null,
      "metadata": {
        "colab": {
          "base_uri": "https://localhost:8080/",
          "height": 206
        },
        "id": "DpocjNsy2AmV",
        "outputId": "06c43d98-6f67-470d-8143-7c12ab67327b"
      },
      "outputs": [
        {
          "output_type": "execute_result",
          "data": {
            "text/html": [
              "\n",
              "  <div id=\"df-db303405-29ac-465e-8632-1c3d3a1c711d\">\n",
              "    <div class=\"colab-df-container\">\n",
              "      <div>\n",
              "<style scoped>\n",
              "    .dataframe tbody tr th:only-of-type {\n",
              "        vertical-align: middle;\n",
              "    }\n",
              "\n",
              "    .dataframe tbody tr th {\n",
              "        vertical-align: top;\n",
              "    }\n",
              "\n",
              "    .dataframe thead th {\n",
              "        text-align: right;\n",
              "    }\n",
              "</style>\n",
              "<table border=\"1\" class=\"dataframe\">\n",
              "  <thead>\n",
              "    <tr style=\"text-align: right;\">\n",
              "      <th></th>\n",
              "      <th>Id</th>\n",
              "      <th>Review</th>\n",
              "      <th>Label</th>\n",
              "    </tr>\n",
              "  </thead>\n",
              "  <tbody>\n",
              "    <tr>\n",
              "      <th>0</th>\n",
              "      <td>2-speed-it</td>\n",
              "      <td>BOring</td>\n",
              "      <td>1</td>\n",
              "    </tr>\n",
              "    <tr>\n",
              "      <th>1</th>\n",
              "      <td>2-speed-it</td>\n",
              "      <td>Bravo !</td>\n",
              "      <td>5</td>\n",
              "    </tr>\n",
              "    <tr>\n",
              "      <th>2</th>\n",
              "      <td>2-speed-it</td>\n",
              "      <td>Very goo</td>\n",
              "      <td>5</td>\n",
              "    </tr>\n",
              "    <tr>\n",
              "      <th>3</th>\n",
              "      <td>2-speed-it</td>\n",
              "      <td>Great course - I recommend it for all, especia...</td>\n",
              "      <td>5</td>\n",
              "    </tr>\n",
              "    <tr>\n",
              "      <th>4</th>\n",
              "      <td>2-speed-it</td>\n",
              "      <td>One of the most useful course on IT Management!</td>\n",
              "      <td>5</td>\n",
              "    </tr>\n",
              "  </tbody>\n",
              "</table>\n",
              "</div>\n",
              "      <button class=\"colab-df-convert\" onclick=\"convertToInteractive('df-db303405-29ac-465e-8632-1c3d3a1c711d')\"\n",
              "              title=\"Convert this dataframe to an interactive table.\"\n",
              "              style=\"display:none;\">\n",
              "        \n",
              "  <svg xmlns=\"http://www.w3.org/2000/svg\" height=\"24px\"viewBox=\"0 0 24 24\"\n",
              "       width=\"24px\">\n",
              "    <path d=\"M0 0h24v24H0V0z\" fill=\"none\"/>\n",
              "    <path d=\"M18.56 5.44l.94 2.06.94-2.06 2.06-.94-2.06-.94-.94-2.06-.94 2.06-2.06.94zm-11 1L8.5 8.5l.94-2.06 2.06-.94-2.06-.94L8.5 2.5l-.94 2.06-2.06.94zm10 10l.94 2.06.94-2.06 2.06-.94-2.06-.94-.94-2.06-.94 2.06-2.06.94z\"/><path d=\"M17.41 7.96l-1.37-1.37c-.4-.4-.92-.59-1.43-.59-.52 0-1.04.2-1.43.59L10.3 9.45l-7.72 7.72c-.78.78-.78 2.05 0 2.83L4 21.41c.39.39.9.59 1.41.59.51 0 1.02-.2 1.41-.59l7.78-7.78 2.81-2.81c.8-.78.8-2.07 0-2.86zM5.41 20L4 18.59l7.72-7.72 1.47 1.35L5.41 20z\"/>\n",
              "  </svg>\n",
              "      </button>\n",
              "      \n",
              "  <style>\n",
              "    .colab-df-container {\n",
              "      display:flex;\n",
              "      flex-wrap:wrap;\n",
              "      gap: 12px;\n",
              "    }\n",
              "\n",
              "    .colab-df-convert {\n",
              "      background-color: #E8F0FE;\n",
              "      border: none;\n",
              "      border-radius: 50%;\n",
              "      cursor: pointer;\n",
              "      display: none;\n",
              "      fill: #1967D2;\n",
              "      height: 32px;\n",
              "      padding: 0 0 0 0;\n",
              "      width: 32px;\n",
              "    }\n",
              "\n",
              "    .colab-df-convert:hover {\n",
              "      background-color: #E2EBFA;\n",
              "      box-shadow: 0px 1px 2px rgba(60, 64, 67, 0.3), 0px 1px 3px 1px rgba(60, 64, 67, 0.15);\n",
              "      fill: #174EA6;\n",
              "    }\n",
              "\n",
              "    [theme=dark] .colab-df-convert {\n",
              "      background-color: #3B4455;\n",
              "      fill: #D2E3FC;\n",
              "    }\n",
              "\n",
              "    [theme=dark] .colab-df-convert:hover {\n",
              "      background-color: #434B5C;\n",
              "      box-shadow: 0px 1px 3px 1px rgba(0, 0, 0, 0.15);\n",
              "      filter: drop-shadow(0px 1px 2px rgba(0, 0, 0, 0.3));\n",
              "      fill: #FFFFFF;\n",
              "    }\n",
              "  </style>\n",
              "\n",
              "      <script>\n",
              "        const buttonEl =\n",
              "          document.querySelector('#df-db303405-29ac-465e-8632-1c3d3a1c711d button.colab-df-convert');\n",
              "        buttonEl.style.display =\n",
              "          google.colab.kernel.accessAllowed ? 'block' : 'none';\n",
              "\n",
              "        async function convertToInteractive(key) {\n",
              "          const element = document.querySelector('#df-db303405-29ac-465e-8632-1c3d3a1c711d');\n",
              "          const dataTable =\n",
              "            await google.colab.kernel.invokeFunction('convertToInteractive',\n",
              "                                                     [key], {});\n",
              "          if (!dataTable) return;\n",
              "\n",
              "          const docLinkHtml = 'Like what you see? Visit the ' +\n",
              "            '<a target=\"_blank\" href=https://colab.research.google.com/notebooks/data_table.ipynb>data table notebook</a>'\n",
              "            + ' to learn more about interactive tables.';\n",
              "          element.innerHTML = '';\n",
              "          dataTable['output_type'] = 'display_data';\n",
              "          await google.colab.output.renderOutput(dataTable, element);\n",
              "          const docLink = document.createElement('div');\n",
              "          docLink.innerHTML = docLinkHtml;\n",
              "          element.appendChild(docLink);\n",
              "        }\n",
              "      </script>\n",
              "    </div>\n",
              "  </div>\n",
              "  "
            ],
            "text/plain": [
              "           Id                                             Review  Label\n",
              "0  2-speed-it                                             BOring      1\n",
              "1  2-speed-it                                            Bravo !      5\n",
              "2  2-speed-it                                           Very goo      5\n",
              "3  2-speed-it  Great course - I recommend it for all, especia...      5\n",
              "4  2-speed-it    One of the most useful course on IT Management!      5"
            ]
          },
          "metadata": {},
          "execution_count": 3
        }
      ],
      "source": [
        "data.head()"
      ]
    },
    {
      "cell_type": "markdown",
      "metadata": {
        "id": "Up_I-fEnTIxS"
      },
      "source": [
        "### SPLITING AND PREPROCESSING DATA"
      ]
    },
    {
      "cell_type": "code",
      "execution_count": null,
      "metadata": {
        "id": "RUUsoRJH6MSl"
      },
      "outputs": [],
      "source": [
        "data = data.dropna() # Dropping NAN Values"
      ]
    },
    {
      "cell_type": "code",
      "execution_count": null,
      "metadata": {
        "id": "d8BFGoJd2BBL"
      },
      "outputs": [],
      "source": [
        "x_data = data[\"Review\"] \n",
        "y_data = data[\"Label\"]"
      ]
    },
    {
      "cell_type": "code",
      "execution_count": null,
      "metadata": {
        "id": "dZUKK3s96TAP"
      },
      "outputs": [],
      "source": [
        "x_data = x_data.astype(str) # converting Dataframe to string"
      ]
    },
    {
      "cell_type": "code",
      "execution_count": null,
      "metadata": {
        "id": "LjtiUuox2qVh"
      },
      "outputs": [],
      "source": [
        "x_test = x_data.iloc[:15000]\n",
        "y_test = y_data.iloc[:15000]\n",
        "\n",
        "x_train = x_data.iloc[len(x_test):]\n",
        "y_train = y_data.iloc[len(y_test):]"
      ]
    },
    {
      "cell_type": "code",
      "execution_count": null,
      "metadata": {
        "id": "UwIEJOWr5k_h"
      },
      "outputs": [],
      "source": [
        "tokenizer = Tokenizer()\n",
        "tokenizer.fit_on_texts(x_data)\n",
        "sequences = tokenizer.texts_to_sequences(x_data)"
      ]
    },
    {
      "cell_type": "code",
      "execution_count": null,
      "metadata": {
        "id": "clf-uTCU9s3-"
      },
      "outputs": [],
      "source": [
        "data_ = pad_sequences(sequences,maxlen = 50)"
      ]
    },
    {
      "cell_type": "code",
      "execution_count": null,
      "metadata": {
        "id": "JqCLntzi_Met"
      },
      "outputs": [],
      "source": [
        "label,label_test = np.asarray(y_train),np.asarray(y_test)"
      ]
    },
    {
      "cell_type": "code",
      "execution_count": null,
      "metadata": {
        "id": "Zq5C5yeX_V68"
      },
      "outputs": [],
      "source": [
        "encoded = to_categorical(label)\n",
        "y_test = to_categorical(label_test)"
      ]
    },
    {
      "cell_type": "code",
      "execution_count": null,
      "metadata": {
        "id": "8jQlYOAa_dp0"
      },
      "outputs": [],
      "source": [
        "x_test = data_[:15000]\n",
        "x_train = data_[len(x_test):]\n",
        "y_train = encoded"
      ]
    },
    {
      "cell_type": "code",
      "execution_count": null,
      "metadata": {
        "id": "yKfNWjXLAfgk"
      },
      "outputs": [],
      "source": [
        "y_train = np.array(y_train)"
      ]
    },
    {
      "cell_type": "markdown",
      "source": [
        "### MAKING MODEL"
      ],
      "metadata": {
        "id": "_qYy8JQCd3Iw"
      }
    },
    {
      "cell_type": "code",
      "execution_count": null,
      "metadata": {
        "id": "zmRKQ8n6BGt8"
      },
      "outputs": [],
      "source": [
        "model = Sequential()\n",
        "model.add(Embedding(100000, 32))\n",
        "model.add(LSTM(16))\n",
        "model.add(Dense(18))\n",
        "model.add(Dense(10))\n",
        "model.add(Dense(6, activation='softmax'))\n",
        "model.compile(optimizer='adam', loss='categorical_crossentropy', metrics=['acc'])"
      ]
    },
    {
      "cell_type": "markdown",
      "source": [
        "### TRAINING MODEL"
      ],
      "metadata": {
        "id": "jhqoAlzJS2t5"
      }
    },
    {
      "cell_type": "code",
      "execution_count": null,
      "metadata": {
        "colab": {
          "base_uri": "https://localhost:8080/"
        },
        "id": "vq-9Mh38W92Y",
        "outputId": "9d95f5ce-7199-4b98-bb73-6193d3335668"
      },
      "outputs": [
        {
          "output_type": "stream",
          "name": "stdout",
          "text": [
            "Epoch 1/10\n",
            "3133/3133 [==============================] - 59s 17ms/step - loss: 0.6001 - acc: 0.7901 - val_loss: 0.6776 - val_acc: 0.7469\n",
            "Epoch 2/10\n",
            "3133/3133 [==============================] - 52s 17ms/step - loss: 0.4966 - acc: 0.8153 - val_loss: 0.6633 - val_acc: 0.7487\n",
            "Epoch 3/10\n",
            "3133/3133 [==============================] - 54s 17ms/step - loss: 0.4407 - acc: 0.8355 - val_loss: 0.7215 - val_acc: 0.7431\n",
            "Epoch 4/10\n",
            "3133/3133 [==============================] - 52s 17ms/step - loss: 0.3922 - acc: 0.8564 - val_loss: 0.7747 - val_acc: 0.7414\n",
            "Epoch 5/10\n",
            "3133/3133 [==============================] - 52s 17ms/step - loss: 0.3503 - acc: 0.8728 - val_loss: 0.8419 - val_acc: 0.7286\n",
            "Epoch 6/10\n",
            "3133/3133 [==============================] - 52s 17ms/step - loss: 0.3179 - acc: 0.8854 - val_loss: 0.9396 - val_acc: 0.7213\n",
            "Epoch 7/10\n",
            "3133/3133 [==============================] - 52s 17ms/step - loss: 0.2895 - acc: 0.8966 - val_loss: 1.0319 - val_acc: 0.7121\n",
            "Epoch 8/10\n",
            "3133/3133 [==============================] - 53s 17ms/step - loss: 0.2656 - acc: 0.9050 - val_loss: 1.1181 - val_acc: 0.7099\n",
            "Epoch 9/10\n",
            "3133/3133 [==============================] - 52s 16ms/step - loss: 0.2450 - acc: 0.9128 - val_loss: 1.2194 - val_acc: 0.7192\n",
            "Epoch 10/10\n",
            "3133/3133 [==============================] - 53s 17ms/step - loss: 0.2283 - acc: 0.9192 - val_loss: 1.4070 - val_acc: 0.7077\n"
          ]
        }
      ],
      "source": [
        "history = model.fit(x_train, y_train,epochs=10,validation_split=0.2)"
      ]
    },
    {
      "cell_type": "code",
      "execution_count": null,
      "metadata": {
        "colab": {
          "base_uri": "https://localhost:8080/"
        },
        "id": "glvhoSQYCT_5",
        "outputId": "8b50bc90-94c4-4daa-c411-f16271949625"
      },
      "outputs": [
        {
          "output_type": "stream",
          "name": "stdout",
          "text": [
            "469/469 - 2s - loss: 1.3300 - acc: 0.7340 - 2s/epoch - 5ms/step\n"
          ]
        }
      ],
      "source": [
        "test_loss,test_acc = model.evaluate(x_test,y_test,verbose=2)"
      ]
    },
    {
      "cell_type": "code",
      "source": [
        "plt.plot(history.history['acc'])\n",
        "plt.plot(history.history['loss'])"
      ],
      "metadata": {
        "colab": {
          "base_uri": "https://localhost:8080/",
          "height": 282
        },
        "id": "6tiAG1GKTAgk",
        "outputId": "0e1c5184-2064-41b8-f79b-cadc485779b3"
      },
      "execution_count": null,
      "outputs": [
        {
          "output_type": "execute_result",
          "data": {
            "text/plain": [
              "[<matplotlib.lines.Line2D at 0x7f737b685d50>]"
            ]
          },
          "metadata": {},
          "execution_count": 24
        },
        {
          "output_type": "display_data",
          "data": {
            "image/png": "[encoded data removed]",
            "text/plain": [
              "<Figure size 432x288 with 1 Axes>"
            ]
          },
          "metadata": {
            "needs_background": "light"
          }
        }
      ]
    },
    {
      "cell_type": "code",
      "source": [
        ""
      ],
      "metadata": {
        "id": "55lWsUGFTE8k"
      },
      "execution_count": null,
      "outputs": []
    }
  ],
  "metadata": {
    "accelerator": "GPU",
    "colab": {
      "collapsed_sections": [],
      "name": "piaic_test_Muhammad_Maaz_Azhar_2.ipynb",
      "provenance": []
    },
    "kernelspec": {
      "display_name": "Python 3",
      "language": "python",
      "name": "python3"
    },
    "language_info": {
      "codemirror_mode": {
        "name": "ipython",
        "version": 3
      },
      "file_extension": ".py",
      "mimetype": "text/x-python",
      "name": "python",
      "nbconvert_exporter": "python",
      "pygments_lexer": "ipython3",
      "version": "3.9.2"
    }
  },
  "nbformat": 4,
  "nbformat_minor": 0
}